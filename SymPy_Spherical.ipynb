{
 "cells": [
  {
   "cell_type": "code",
   "execution_count": 1,
   "metadata": {},
   "outputs": [],
   "source": [
    "import sympy\n",
    "from sympy import lambdify\n",
    "\n",
    "from sympy import Znm, Symbol, simplify"
   ]
  },
  {
   "cell_type": "code",
   "execution_count": 2,
   "metadata": {},
   "outputs": [],
   "source": [
    "import math\n",
    "\n",
    "from sympy import S\n",
    "from sympy.core.numbers import I, pi\n",
    "\n",
    "from sympy.functions.combinatorial.factorials import binomial, factorial"
   ]
  },
  {
   "cell_type": "code",
   "execution_count": 1,
   "metadata": {},
   "outputs": [],
   "source": [
    "from functools import partial\n",
    "\n",
    "from jax import jit\n",
    "from jax import random\n",
    "import jax.numpy as jnp"
   ]
  },
  {
   "cell_type": "code",
   "execution_count": 2,
   "metadata": {},
   "outputs": [],
   "source": [
    "import spherical"
   ]
  },
  {
   "cell_type": "code",
   "execution_count": null,
   "metadata": {},
   "outputs": [],
   "source": []
  },
  {
   "attachments": {},
   "cell_type": "markdown",
   "metadata": {},
   "source": [
    "## Standard SymPy Spherical Harmonics"
   ]
  },
  {
   "cell_type": "code",
   "execution_count": 20,
   "metadata": {},
   "outputs": [],
   "source": [
    "def SH_real(l, m):\n",
    "    \"\"\"Return JAX version of real spherical harmonics Y(theta, phi).\"\"\"\n",
    "    theta, phi = Symbol(\"theta\", real=True), Symbol(\"phi\", real=True)\n",
    "\n",
    "    ylm = sympy.simplify(Znm(l, m, theta, phi).expand(func=True))\n",
    "\n",
    "    return lambdify([theta, phi], ylm, modules=\"jax\")\n",
    "\n",
    "def SH_real_cart(l, m):\n",
    "    \"\"\"Return JAX version of real spherical harmonics in cartesian coordinates Y(x, y, z).\"\"\"\n",
    "    theta, phi = Symbol(\"theta\", real=True), Symbol(\"phi\", real=True)\n",
    "    x, y, z = Symbol(\"x\", real=True), Symbol(\"y\", real=True), Symbol(\"z\", real=True)\n",
    "\n",
    "    ylm = sympy.simplify(Znm(l, m, theta, phi).expand(func=True))\n",
    "    ylm = sympy.expand_trig(ylm)\n",
    "\n",
    "    # Extra step to try and expand complex exponentials\n",
    "    # NOTE Recent addition\n",
    "    ylm = sympy.expand(ylm, complex=True)\n",
    "    ylm = sympy.expand_trig(ylm)\n",
    "    #ylm = sympy.simplify(ylm)\n",
    "\n",
    "    # Replacing spherical coords\n",
    "    # TODO Be careful that phi is being substituted correctly with y < 0\n",
    "    ylm = ylm.subs(theta, sympy.acos(z / sympy.sqrt(x**2 + y**2 + z**2)))\n",
    "    ylm = ylm.subs(phi, sympy.acos(x / sympy.sqrt(x**2 + y**2)))\n",
    "\n",
    "    # Manipulating fractions\n",
    "    ylm = simplify(ylm)\n",
    "    ylm = sympy.cancel(ylm)\n",
    "    ylm = sympy.simplify(ylm)\n",
    "    ylm = sympy.expand_power_base(ylm, force=True)\n",
    "    ylm = sympy.powdenest(ylm, force=True)\n",
    "    ylm = sympy.simplify(ylm)\n",
    "    ylm = sympy.factor(ylm)\n",
    "\n",
    "    # Condon-Shortley Phase\n",
    "    ylm = ylm if (m % 2 == 0) else -ylm\n",
    "\n",
    "    # Display for debugging\n",
    "    #display(ylm)\n",
    "\n",
    "    return lambdify([x, y, z], ylm, modules=\"jax\")"
   ]
  },
  {
   "attachments": {},
   "cell_type": "markdown",
   "metadata": {},
   "source": [
    "### Defining JITed Versions"
   ]
  },
  {
   "cell_type": "code",
   "execution_count": 21,
   "metadata": {},
   "outputs": [],
   "source": [
    "@partial(jit, static_argnums=(1, 2))\n",
    "def SH_real_jit(rs, l, m):\n",
    "    \"\"\"Return SH applied to an array of shape [*, 3], where last three coords are x, y, z.\n",
    "    Expect this function to be slower than using the algebraic methods above.\n",
    "    \"\"\"\n",
    "    # TODO Think about best ordering of axes.\n",
    "\n",
    "    # Get views\n",
    "    xs, ys, zs = rs[..., 0], rs[..., 1], rs[..., 2]\n",
    "\n",
    "    # Convert to spherical coords\n",
    "    radii = jnp.sqrt(xs**2 + ys**2 + zs**2)\n",
    "    thetas = jnp.nan_to_num(jnp.arccos(zs / radii), nan=0.0, copy=False)\n",
    "    #thetas = jnp.arccos(zs / radii)\n",
    "    phis = jnp.arctan2(ys, xs)\n",
    "\n",
    "    SH = SH_real(l, m)\n",
    "\n",
    "    return SH(thetas, phis)\n",
    "\n",
    "@partial(jit, static_argnums=(1, 2))\n",
    "def SH_sympy_jit(rs, l, m):\n",
    "    \"\"\"Return SH applied to an array of shape [*, 3], where last three coords are x, y, z.\n",
    "    Expect this function to be slower than using the algebraic methods above.\n",
    "    \"\"\"\n",
    "    xs, ys, zs = rs[..., 0], rs[..., 1], rs[..., 2]\n",
    "    SH = SH_real_cart(l, m)\n",
    "\n",
    "    return SH(xs, ys, zs)"
   ]
  },
  {
   "attachments": {},
   "cell_type": "markdown",
   "metadata": {},
   "source": [
    "## Custom Solid Harmonic\n",
    "\n",
    "Real spherical harmonics $Y_{\\ell m}(x, y, z)$ given by:\n",
    "\n",
    "$$r^{\\ell}\\left(\\begin{array}{c}\n",
    "Y_{\\ell m} \\\\\n",
    "Y_{\\ell-m}\n",
    "\\end{array}\\right)=\\sqrt{\\frac{2 \\ell+1}{2 \\pi}} \\bar{\\Pi}_{\\ell}^m(z)\\left(\\begin{array}{c}\n",
    "A_m \\\\\n",
    "B_m\n",
    "\\end{array}\\right), \\quad m>0$$\n",
    "\n",
    "$$\\bar{\\Pi}_{\\ell}^m(z)=\\left[\\frac{(\\ell-m) !}{(\\ell+m) !}\\right]^{1 / 2} \\sum_{k=0}^{\\lfloor(\\ell-m) / 2\\rfloor}(-1)^k 2^{-\\ell}\\left(\\begin{array}{l}\n",
    "\\ell \\\\\n",
    "k\n",
    "\\end{array}\\right)\\left(\\begin{array}{c}\n",
    "2 \\ell-2 k \\\\\n",
    "\\ell\n",
    "\\end{array}\\right) \\frac{(\\ell-2 k) !}{(\\ell-2 k-m) !} r^{2 k} z^{\\ell-2 k-m}$$\n",
    "\n",
    "$$A_m(x, y) \\equiv \\Re{[(x+i y)^m]}, \\qquad B_m(x, y) \\equiv \\Im{[(x+i y)^m]}$$"
   ]
  },
  {
   "cell_type": "code",
   "execution_count": 17,
   "metadata": {},
   "outputs": [],
   "source": [
    "def Scale(l):\n",
    "    r = Symbol(\"r\", real=True, positive=True)\n",
    "\n",
    "    return sympy.sqrt((sympy.Integer(2) * l + 1) / (2 * pi)) * r**(-l)\n",
    "\n",
    "def AB(m):\n",
    "    x, y = Symbol(\"x\", real=True), Symbol(\"y\", real=True)\n",
    "\n",
    "    power = (x + I * y)**m\n",
    "    return sympy.re(power), sympy.im(power)\n",
    "\n",
    "def Pi(l, m):\n",
    "    z, r = Symbol(\"z\", real=True), Symbol(\"r\", real=True, positive=True)\n",
    "\n",
    "    prefac = sympy.sqrt(factorial(l - m) / factorial(l + m)) * sympy.sqrt(2 - sympy.KroneckerDelta(m, 0)) / sympy.sqrt(2)\n",
    "\n",
    "    summation = 0\n",
    "    for k in range(0, math.floor((l - m) / 2) + 1):\n",
    "        summation += S.NegativeOne**k * sympy.Integer(2)**(-l) * binomial(l, k) * binomial(2 * l - 2 * k, l) * (factorial(l - 2 * k) / factorial(l - 2 * k - m)) * r**(2 * k) * z**(l - 2 * k - m)\n",
    "\n",
    "    return prefac * summation\n",
    "\n",
    "def SolidHarmonics(l):\n",
    "    SH_dict = {}\n",
    "\n",
    "    for m in range(0, l + 1, 1):\n",
    "        A, B = AB(m)\n",
    "        pre =  Pi(l, m) * Scale(l)\n",
    "        y_plus = simplify(pre * A)\n",
    "        y_minus = simplify(pre * B)\n",
    "\n",
    "        SH_dict[m] = y_plus\n",
    "\n",
    "        if m > 0:\n",
    "            SH_dict[-m] = y_minus\n",
    "\n",
    "    return SH_dict\n",
    "\n",
    "def SolidHarmonicsJax(l):\n",
    "    sh_dict = SolidHarmonics(l)\n",
    "\n",
    "    x, y, z = Symbol(\"x\", real=True), Symbol(\"y\", real=True), Symbol(\"z\", real=True)\n",
    "    r = Symbol(\"r\", real=True, positive=True)\n",
    "\n",
    "    return {m: lambdify([x, y, z, r], sh, modules=\"jax\") for m, sh in sh_dict.items()}\n",
    "\n",
    "@partial(jit, static_argnums=(1, 2))\n",
    "def SolidHarmonic_jit(coords, l, m):\n",
    "    \n",
    "    # TODO See if this can be moved outside\n",
    "    sh_dict = SolidHarmonicsJax(l)\n",
    "\n",
    "    # Get views\n",
    "    xs, ys, zs = coords[..., 0], coords[..., 1], coords[..., 2]\n",
    "    rs = jnp.sqrt(xs**2 + ys**2 + zs**2)\n",
    "\n",
    "    return sh_dict[m](xs, ys, zs, rs)"
   ]
  },
  {
   "attachments": {},
   "cell_type": "markdown",
   "metadata": {},
   "source": [
    "## Benchmarks"
   ]
  },
  {
   "cell_type": "code",
   "execution_count": 3,
   "metadata": {},
   "outputs": [
    {
     "name": "stderr",
     "output_type": "stream",
     "text": [
      "WARNING:jax._src.lib.xla_bridge:No GPU/TPU found, falling back to CPU. (Set TF_CPP_MIN_LOG_LEVEL=0 and rerun for more info.)\n"
     ]
    }
   ],
   "source": [
    "key = random.PRNGKey(0)\n",
    "key, subkey = random.split(key, num=2)\n",
    "\n",
    "n = 1000\n",
    "coords = random.normal(subkey, shape=(n, 3))\n",
    "\n",
    "xs, ys, zs = coords[..., 0], coords[..., 1], coords[..., 2]\n",
    "rs = jnp.sqrt(xs**2 + ys**2 + zs**2)\n",
    "\n",
    "l, m = 10, 3"
   ]
  },
  {
   "cell_type": "code",
   "execution_count": 4,
   "metadata": {},
   "outputs": [
    {
     "name": "stdout",
     "output_type": "stream",
     "text": [
      "CPU times: user 1.34 s, sys: 0 ns, total: 1.34 s\n",
      "Wall time: 1.34 s\n",
      "1.94 µs ± 5.22 ns per loop (mean ± std. dev. of 7 runs, 1,000,000 loops each)\n"
     ]
    }
   ],
   "source": [
    "%time spherical.SolidHarmonic_jit(coords, l, m).block_until_ready()\n",
    "%timeit spherical.SolidHarmonic_jit(coords, l, m).block_until_ready()"
   ]
  },
  {
   "cell_type": "code",
   "execution_count": 28,
   "metadata": {},
   "outputs": [
    {
     "name": "stdout",
     "output_type": "stream",
     "text": [
      "CPU times: user 1.02 s, sys: 0 ns, total: 1.02 s\n",
      "Wall time: 1.01 s\n",
      "1.31 µs ± 3.35 ns per loop (mean ± std. dev. of 7 runs, 1,000,000 loops each)\n"
     ]
    }
   ],
   "source": [
    "%time SH_sympy_jit(rs, l, m).block_until_ready()\n",
    "%timeit SH_sympy_jit(rs, l, m).block_until_ready()"
   ]
  },
  {
   "cell_type": "code",
   "execution_count": 29,
   "metadata": {},
   "outputs": [
    {
     "name": "stdout",
     "output_type": "stream",
     "text": [
      "CPU times: user 181 ms, sys: 0 ns, total: 181 ms\n",
      "Wall time: 179 ms\n",
      "1.34 µs ± 4 ns per loop (mean ± std. dev. of 7 runs, 1,000,000 loops each)\n"
     ]
    }
   ],
   "source": [
    "%time SH_real_jit(rs, l, m).block_until_ready()\n",
    "%timeit SH_real_jit(rs, l, m).block_until_ready()"
   ]
  },
  {
   "cell_type": "code",
   "execution_count": null,
   "metadata": {},
   "outputs": [],
   "source": []
  }
 ],
 "metadata": {
  "kernelspec": {
   "display_name": "JAX_env",
   "language": "python",
   "name": "python3"
  },
  "language_info": {
   "codemirror_mode": {
    "name": "ipython",
    "version": 3
   },
   "file_extension": ".py",
   "mimetype": "text/x-python",
   "name": "python",
   "nbconvert_exporter": "python",
   "pygments_lexer": "ipython3",
   "version": "3.10.9"
  },
  "orig_nbformat": 4,
  "vscode": {
   "interpreter": {
    "hash": "700324ccea31c4ec5e4b851dc4c8b6c775edafbb72102ba5b9f6937410d277b2"
   }
  }
 },
 "nbformat": 4,
 "nbformat_minor": 2
}
