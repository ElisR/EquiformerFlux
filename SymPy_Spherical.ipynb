{
 "cells": [
  {
   "cell_type": "code",
   "execution_count": 3,
   "metadata": {},
   "outputs": [],
   "source": [
    "from jax import random, jit\n",
    "import jax.numpy as jnp"
   ]
  },
  {
   "cell_type": "code",
   "execution_count": 4,
   "metadata": {},
   "outputs": [],
   "source": [
    "import spherical\n",
    "import spherical_alt"
   ]
  },
  {
   "attachments": {},
   "cell_type": "markdown",
   "metadata": {},
   "source": [
    "## Custom Solid Harmonic\n",
    "\n",
    "Real spherical harmonics $Y_{\\ell m}(x, y, z)$ given by:\n",
    "\n",
    "$$r^{\\ell}\\left(\\begin{array}{c}\n",
    "Y_{\\ell m} \\\\\n",
    "Y_{\\ell-m}\n",
    "\\end{array}\\right)=\\sqrt{\\frac{2 \\ell+1}{2 \\pi}} \\bar{\\Pi}_{\\ell}^m(z)\\left(\\begin{array}{c}\n",
    "A_m \\\\\n",
    "B_m\n",
    "\\end{array}\\right), \\quad m>0$$\n",
    "\n",
    "$$\\bar{\\Pi}_{\\ell}^m(z)=\\left[\\frac{(\\ell-m) !}{(\\ell+m) !}\\right]^{1 / 2} \\sum_{k=0}^{\\lfloor(\\ell-m) / 2\\rfloor}(-1)^k 2^{-\\ell}\\left(\\begin{array}{l}\n",
    "\\ell \\\\\n",
    "k\n",
    "\\end{array}\\right)\\left(\\begin{array}{c}\n",
    "2 \\ell-2 k \\\\\n",
    "\\ell\n",
    "\\end{array}\\right) \\frac{(\\ell-2 k) !}{(\\ell-2 k-m) !} r^{2 k} z^{\\ell-2 k-m}$$\n",
    "\n",
    "$$A_m(x, y) \\equiv \\Re{[(x+i y)^m]}, \\qquad B_m(x, y) \\equiv \\Im{[(x+i y)^m]}$$"
   ]
  },
  {
   "attachments": {},
   "cell_type": "markdown",
   "metadata": {},
   "source": [
    "## Benchmarks"
   ]
  },
  {
   "cell_type": "code",
   "execution_count": 5,
   "metadata": {},
   "outputs": [
    {
     "name": "stderr",
     "output_type": "stream",
     "text": [
      "WARNING:jax._src.lib.xla_bridge:No GPU/TPU found, falling back to CPU. (Set TF_CPP_MIN_LOG_LEVEL=0 and rerun for more info.)\n"
     ]
    }
   ],
   "source": [
    "key = random.PRNGKey(0)\n",
    "key, subkey = random.split(key, num=2)\n",
    "\n",
    "n = 1000\n",
    "\n",
    "coords = random.normal(subkey, shape=(n, 3))\n",
    "\n",
    "l, m = 10, 7"
   ]
  },
  {
   "cell_type": "code",
   "execution_count": 6,
   "metadata": {},
   "outputs": [
    {
     "name": "stdout",
     "output_type": "stream",
     "text": [
      "CPU times: user 1.3 s, sys: 0 ns, total: 1.3 s\n",
      "Wall time: 1.3 s\n",
      "2 µs ± 6.15 ns per loop (mean ± std. dev. of 7 runs, 1,000,000 loops each)\n"
     ]
    }
   ],
   "source": [
    "%time spherical.SolidHarmonic_jit(coords, l, m).block_until_ready()\n",
    "%timeit spherical.SolidHarmonic_jit(coords, l, m).block_until_ready()"
   ]
  },
  {
   "cell_type": "code",
   "execution_count": 7,
   "metadata": {},
   "outputs": [
    {
     "name": "stdout",
     "output_type": "stream",
     "text": [
      "CPU times: user 338 ms, sys: 0 ns, total: 338 ms\n",
      "Wall time: 336 ms\n",
      "156 µs ± 6.37 µs per loop (mean ± std. dev. of 7 runs, 10,000 loops each)\n"
     ]
    }
   ],
   "source": [
    "# NOTE This is slower than I'd like as-is\n",
    "%time spherical.SolidHarmonics_jit(coords, l).block_until_ready()\n",
    "%timeit spherical.SolidHarmonics_jit(coords, l).block_until_ready()"
   ]
  },
  {
   "cell_type": "code",
   "execution_count": 8,
   "metadata": {},
   "outputs": [
    {
     "name": "stdout",
     "output_type": "stream",
     "text": [
      "CPU times: user 799 ms, sys: 0 ns, total: 799 ms\n",
      "Wall time: 797 ms\n",
      "1.96 µs ± 49.9 ns per loop (mean ± std. dev. of 7 runs, 1,000,000 loops each)\n"
     ]
    }
   ],
   "source": [
    "%time spherical_alt.SH_sympy_jit(coords, l, m).block_until_ready()\n",
    "%timeit spherical_alt.SH_sympy_jit(coords, l, m).block_until_ready()"
   ]
  },
  {
   "cell_type": "code",
   "execution_count": 9,
   "metadata": {},
   "outputs": [
    {
     "name": "stdout",
     "output_type": "stream",
     "text": [
      "CPU times: user 120 ms, sys: 0 ns, total: 120 ms\n",
      "Wall time: 118 ms\n",
      "46.2 µs ± 454 ns per loop (mean ± std. dev. of 7 runs, 10,000 loops each)\n"
     ]
    }
   ],
   "source": [
    "%time spherical_alt.SH_real_jit(coords, l, m).block_until_ready()\n",
    "%timeit spherical_alt.SH_real_jit(coords, l, m).block_until_ready()"
   ]
  },
  {
   "cell_type": "code",
   "execution_count": null,
   "metadata": {},
   "outputs": [],
   "source": []
  }
 ],
 "metadata": {
  "kernelspec": {
   "display_name": "JAX_env",
   "language": "python",
   "name": "python3"
  },
  "language_info": {
   "codemirror_mode": {
    "name": "ipython",
    "version": 3
   },
   "file_extension": ".py",
   "mimetype": "text/x-python",
   "name": "python",
   "nbconvert_exporter": "python",
   "pygments_lexer": "ipython3",
   "version": "3.10.9"
  },
  "orig_nbformat": 4,
  "vscode": {
   "interpreter": {
    "hash": "700324ccea31c4ec5e4b851dc4c8b6c775edafbb72102ba5b9f6937410d277b2"
   }
  }
 },
 "nbformat": 4,
 "nbformat_minor": 2
}
