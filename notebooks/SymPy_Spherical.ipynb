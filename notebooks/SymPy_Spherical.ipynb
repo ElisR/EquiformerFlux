{
 "cells": [
  {
   "cell_type": "code",
   "execution_count": 2,
   "metadata": {},
   "outputs": [],
   "source": [
    "import sys\n",
    "sys.path.append('../')\n",
    "\n",
    "from jax import random, jit\n",
    "import jax.numpy as jnp"
   ]
  },
  {
   "cell_type": "code",
   "execution_count": 4,
   "metadata": {},
   "outputs": [],
   "source": [
    "from jax.scipy.special import sph_harm"
   ]
  },
  {
   "cell_type": "code",
   "execution_count": 5,
   "metadata": {},
   "outputs": [],
   "source": [
    "import equiformer.spherical as spherical\n",
    "import equiformer.spherical_alt as spherical_alt"
   ]
  },
  {
   "attachments": {},
   "cell_type": "markdown",
   "metadata": {},
   "source": [
    "## Custom Solid Harmonic\n",
    "\n",
    "Real spherical harmonics $Y_{\\ell m}(x, y, z)$ given by:\n",
    "\n",
    "$$r^{\\ell}\\left(\\begin{array}{c}\n",
    "Y_{\\ell m} \\\\\n",
    "Y_{\\ell-m}\n",
    "\\end{array}\\right)=\\sqrt{\\frac{2 \\ell+1}{2 \\pi}} \\bar{\\Pi}_{\\ell}^m(z)\\left(\\begin{array}{c}\n",
    "A_m \\\\\n",
    "B_m\n",
    "\\end{array}\\right), \\quad m>0$$\n",
    "\n",
    "$$\\bar{\\Pi}_{\\ell}^m(z)=\\left[\\frac{(\\ell-m) !}{(\\ell+m) !}\\right]^{1 / 2} \\sum_{k=0}^{\\lfloor(\\ell-m) / 2\\rfloor}(-1)^k 2^{-\\ell}\\left(\\begin{array}{l}\n",
    "\\ell \\\\\n",
    "k\n",
    "\\end{array}\\right)\\left(\\begin{array}{c}\n",
    "2 \\ell-2 k \\\\\n",
    "\\ell\n",
    "\\end{array}\\right) \\frac{(\\ell-2 k) !}{(\\ell-2 k-m) !} r^{2 k} z^{\\ell-2 k-m}$$\n",
    "\n",
    "$$A_m(x, y) \\equiv \\Re{[(x+i y)^m]}, \\qquad B_m(x, y) \\equiv \\Im{[(x+i y)^m]}$$"
   ]
  },
  {
   "attachments": {},
   "cell_type": "markdown",
   "metadata": {},
   "source": [
    "### Playing with Individual Functions"
   ]
  },
  {
   "cell_type": "code",
   "execution_count": 4,
   "metadata": {},
   "outputs": [
    {
     "data": {
      "text/plain": [
       "Array([0.28209478+0.j, 0.28209478+0.j], dtype=complex64)"
      ]
     },
     "execution_count": 4,
     "metadata": {},
     "output_type": "execute_result"
    }
   ],
   "source": [
    "# same but operating on jax arrays\n",
    "sph_harm(jnp.array([0]), jnp.array([0]), jnp.array([0, 1]), jnp.array([0, 1]))"
   ]
  },
  {
   "attachments": {},
   "cell_type": "markdown",
   "metadata": {},
   "source": [
    "## Benchmarks"
   ]
  },
  {
   "cell_type": "code",
   "execution_count": 6,
   "metadata": {},
   "outputs": [],
   "source": [
    "key = random.PRNGKey(0)\n",
    "key, subkey = random.split(key, num=2)\n",
    "\n",
    "n = 1000\n",
    "\n",
    "coords = random.normal(subkey, shape=(n, 3))\n",
    "\n",
    "l, m = 10, 7"
   ]
  },
  {
   "cell_type": "code",
   "execution_count": 6,
   "metadata": {},
   "outputs": [
    {
     "name": "stdout",
     "output_type": "stream",
     "text": [
      "1.21 ms ± 46.9 µs per loop (mean ± std. dev. of 7 runs, 1 loop each)\n"
     ]
    }
   ],
   "source": [
    "%timeit spherical.solid_harmonic_jit(coords, l, m).block_until_ready()"
   ]
  },
  {
   "cell_type": "code",
   "execution_count": 7,
   "metadata": {},
   "outputs": [
    {
     "name": "stdout",
     "output_type": "stream",
     "text": [
      "115 µs ± 32.8 µs per loop (mean ± std. dev. of 7 runs, 1 loop each)\n"
     ]
    }
   ],
   "source": [
    "# NOTE This is slower than I'd like as-is\n",
    "%timeit spherical.solid_harmonics_jit(coords, l).block_until_ready()"
   ]
  },
  {
   "cell_type": "code",
   "execution_count": 8,
   "metadata": {},
   "outputs": [
    {
     "name": "stdout",
     "output_type": "stream",
     "text": [
      "The slowest run took 5.05 times longer than the fastest. This could mean that an intermediate result is being cached.\n",
      "1.08 ms ± 338 µs per loop (mean ± std. dev. of 7 runs, 1 loop each)\n"
     ]
    }
   ],
   "source": [
    "%timeit spherical_alt.SH_sympy_jit(coords, l, m).block_until_ready()"
   ]
  },
  {
   "cell_type": "code",
   "execution_count": 6,
   "metadata": {},
   "outputs": [
    {
     "name": "stdout",
     "output_type": "stream",
     "text": [
      "1.37 ms ± 16.7 µs per loop (mean ± std. dev. of 7 runs, 1 loop each)\n"
     ]
    }
   ],
   "source": [
    "%timeit spherical_alt.SH_real_jit(coords, l, m).block_until_ready()"
   ]
  },
  {
   "cell_type": "code",
   "execution_count": null,
   "metadata": {},
   "outputs": [],
   "source": [
    "%timeit spherical_alt.SH_real_jit_all(coords, l).block_until_ready()"
   ]
  },
  {
   "cell_type": "code",
   "execution_count": 23,
   "metadata": {},
   "outputs": [],
   "source": [
    "# Checking that values agree\n",
    "assert jnp.isclose(\n",
    "    spherical_alt.SH_sympy_jit(coords, l, m),\n",
    "    spherical.solid_harmonic_jit(coords, l, m),\n",
    "    rtol=1e-5,\n",
    "    atol=1e-5,\n",
    ").all()"
   ]
  },
  {
   "cell_type": "code",
   "execution_count": null,
   "metadata": {},
   "outputs": [],
   "source": []
  }
 ],
 "metadata": {
  "kernelspec": {
   "display_name": "JAX_env",
   "language": "python",
   "name": "python3"
  },
  "language_info": {
   "codemirror_mode": {
    "name": "ipython",
    "version": 3
   },
   "file_extension": ".py",
   "mimetype": "text/x-python",
   "name": "python",
   "nbconvert_exporter": "python",
   "pygments_lexer": "ipython3",
   "version": "3.11.4"
  },
  "orig_nbformat": 4,
  "vscode": {
   "interpreter": {
    "hash": "700324ccea31c4ec5e4b851dc4c8b6c775edafbb72102ba5b9f6937410d277b2"
   }
  }
 },
 "nbformat": 4,
 "nbformat_minor": 2
}
