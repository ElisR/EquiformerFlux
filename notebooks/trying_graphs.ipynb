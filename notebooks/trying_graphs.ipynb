{
 "cells": [
  {
   "cell_type": "code",
   "execution_count": 1,
   "metadata": {},
   "outputs": [],
   "source": [
    "import sys\n",
    "sys.path.append('../')\n",
    "from tqdm import tqdm\n",
    "\n",
    "import jraph\n",
    "import jax.numpy as jnp\n",
    "import jax.random as jr\n",
    "import jax\n",
    "\n",
    "import equinox as eqx\n",
    "import equiformer.graphs as graphs\n",
    "import equiformer.layers as layers\n",
    "import equiformer.examples.tetris as tetris\n",
    "\n",
    "from jax.lax import gather\n",
    "\n",
    "from torch.utils.data import Dataset, DataLoader\n",
    "import optax\n",
    "\n",
    "#import lovely_jax as lj\n",
    "#lj.monkey_patch()"
   ]
  },
  {
   "cell_type": "code",
   "execution_count": 6,
   "metadata": {},
   "outputs": [],
   "source": [
    "import lovely_jax as lj\n",
    "#lj.monkey_patch()"
   ]
  },
  {
   "cell_type": "code",
   "execution_count": 2,
   "metadata": {},
   "outputs": [],
   "source": [
    "dataset = tetris.TetrisDataset()\n",
    "loader = DataLoader(dataset, batch_size=8, shuffle=False, collate_fn=tetris.labelled_graph_batcher)\n",
    "unbatched_loader = DataLoader(dataset, batch_size=None, shuffle=False)"
   ]
  },
  {
   "cell_type": "code",
   "execution_count": 3,
   "metadata": {},
   "outputs": [],
   "source": [
    "@eqx.filter_value_and_grad\n",
    "def compute_loss(model, g, label):\n",
    "    pred_label = model(g)\n",
    "    return jnp.sum(optax.softmax_cross_entropy_with_integer_labels(pred_label, label))"
   ]
  },
  {
   "cell_type": "code",
   "execution_count": 4,
   "metadata": {},
   "outputs": [],
   "source": [
    "@eqx.filter_jit\n",
    "def make_step(model, g, label, optim, opt_state):\n",
    "    loss, grads = compute_loss(model, g, label)\n",
    "    updates, opt_state = optim.update(grads, opt_state)\n",
    "    model = eqx.apply_updates(model, updates)\n",
    "    return loss, model, opt_state"
   ]
  },
  {
   "cell_type": "code",
   "execution_count": 5,
   "metadata": {},
   "outputs": [
    {
     "name": "stderr",
     "output_type": "stream",
     "text": [
      "Loss: 0.0224: 100%|██████████| 1500/1500 [00:07<00:00, 195.50it/s]\n"
     ]
    }
   ],
   "source": [
    "model = tetris.ShapeClassifier(jr.PRNGKey(1))\n",
    "\n",
    "optim = optax.adam(5e-3)\n",
    "opt_state = optim.init(eqx.filter(model, eqx.is_array))\n",
    "\n",
    "EPOCHS = 1500\n",
    "progress_bar = tqdm(range(EPOCHS))\n",
    "for epoch in progress_bar:\n",
    "    epoch_loss = 0.0\n",
    "    for (g, label) in loader:\n",
    "        #label = jnp.array([label]) # necessary for unbatched loader\n",
    "        loss, model, opt_state = make_step(model, g, label, optim, opt_state)\n",
    "        epoch_loss += loss\n",
    "    progress_bar.set_description(f\"Loss: {epoch_loss:.4f}\")"
   ]
  },
  {
   "cell_type": "code",
   "execution_count": 6,
   "metadata": {},
   "outputs": [
    {
     "name": "stdout",
     "output_type": "stream",
     "text": [
      "0 vs 0 vs truth which is 0 = 0; max(Δp) = 1.0244548e-07\n",
      "1 vs 1 vs truth which is 1 = 1; max(Δp) = 1.2805685e-07\n",
      "2 vs 2 vs truth which is 2 = 2; max(Δp) = 5.296897e-09\n",
      "3 vs 3 vs truth which is 3 = 3; max(Δp) = 4.48199e-09\n",
      "4 vs 4 vs truth which is 4 = 4; max(Δp) = 1.4144462e-08\n",
      "5 vs 5 vs truth which is 5 = 5; max(Δp) = 9.575674e-16\n",
      "6 vs 6 vs truth which is 6 = 6; max(Δp) = 3.632158e-08\n",
      "7 vs 7 vs truth which is 7 = 7; max(Δp) = 2.2118911e-08\n"
     ]
    }
   ],
   "source": [
    "def single_label(model, g) -> int:\n",
    "    probs = jax.nn.softmax(model(g))\n",
    "    return int(jnp.argmax(probs)), probs\n",
    "\n",
    "# Rotated version of dataset\n",
    "rotated_dataset = tetris.TetrisDataset(rotate_seed = 4)\n",
    "\n",
    "for ((g_rot, y_rot), (g, y)) in zip(dataset, rotated_dataset):\n",
    "    y_pred_rot, probs_rot = single_label(model, g_rot)\n",
    "    y_pred, probs = single_label(model, g)\n",
    "\n",
    "    print(y_pred_rot, \"vs\", y_pred, \"vs truth which is\", y_rot, \"=\", y, end=\"; \")\n",
    "    print(\"max(Δp) =\", jnp.max(jnp.abs(probs - probs_rot)))"
   ]
  },
  {
   "cell_type": "code",
   "execution_count": null,
   "metadata": {},
   "outputs": [],
   "source": []
  }
 ],
 "metadata": {
  "kernelspec": {
   "display_name": "JAX_env",
   "language": "python",
   "name": "python3"
  },
  "language_info": {
   "codemirror_mode": {
    "name": "ipython",
    "version": 3
   },
   "file_extension": ".py",
   "mimetype": "text/x-python",
   "name": "python",
   "nbconvert_exporter": "python",
   "pygments_lexer": "ipython3",
   "version": "3.11.4"
  },
  "orig_nbformat": 4
 },
 "nbformat": 4,
 "nbformat_minor": 2
}
