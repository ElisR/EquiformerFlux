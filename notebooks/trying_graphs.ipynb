{
 "cells": [
  {
   "cell_type": "code",
   "execution_count": 8,
   "metadata": {},
   "outputs": [],
   "source": [
    "import jraph\n",
    "import jax.numpy as jnp\n",
    "from jax import random"
   ]
  },
  {
   "cell_type": "code",
   "execution_count": 6,
   "metadata": {},
   "outputs": [],
   "source": [
    "# specify dimensions of channels in spherical harmonics\n",
    "n_channels = (0, 1)\n",
    "\n",
    "def _get_sizes(n_channels):\n",
    "    \"\"\"Returns the size of the feature vector.\"\"\"\n",
    "    size = 0\n",
    "    for i, n in enumerate(n_channels):\n",
    "        size += (2 * i + 1) * n\n",
    "    return size\n",
    "\n",
    "size = _get_sizes(n_channels)"
   ]
  },
  {
   "cell_type": "code",
   "execution_count": 10,
   "metadata": {},
   "outputs": [],
   "source": [
    "# create an example graph with this many features\n",
    "n_nodes = 10\n",
    "n_edges = 20\n",
    "\n",
    "# create random array of node features\n",
    "key = random.PRNGKey(0)\n",
    "key, subkey = random.split(key, num=2)\n",
    "\n",
    "node_features = random.normal(subkey, shape=(n_nodes, size))\n",
    "\n",
    "key, subkey1, subkey2 = random.split(key, num=3)\n",
    "# create random senders and receivers\n",
    "senders = random.randint(subkey1, shape=(n_edges,), minval=0, maxval=n_nodes)\n",
    "receivers = random.randint(subkey2, shape=(n_edges,), minval=0, maxval=n_nodes)\n",
    "\n",
    "# create random edge features with cartesian coordinates\n",
    "edge_features = random.normal(key, shape=(n_edges, 3))\n",
    "\n",
    "\n",
    "graph = jraph.GraphsTuple(\n",
    "    n_node=jnp.array([n_nodes]),\n",
    "    n_edge=jnp.array([n_edges]),\n",
    "    nodes=node_features,\n",
    "    edges=edge_features,\n",
    "    senders=senders,\n",
    "    receivers=receivers,\n",
    "    globals=[jnp.array(n_channels)]\n",
    ")"
   ]
  },
  {
   "cell_type": "code",
   "execution_count": 11,
   "metadata": {},
   "outputs": [
    {
     "data": {
      "text/plain": [
       "GraphsTuple(nodes=Array([[ 2.0084033 ,  0.38875553,  0.05841813],\n",
       "       [ 0.04543414, -1.499004  ,  0.23988214],\n",
       "       [-0.8517008 , -0.13634452, -0.27057654],\n",
       "       [ 0.21603574,  0.7100802 ,  1.0011607 ],\n",
       "       [ 1.1746819 ,  0.20659238,  0.79984576],\n",
       "       [ 1.8073313 ,  0.5765772 , -0.59977204],\n",
       "       [ 0.4116041 ,  0.68762356,  0.84635186],\n",
       "       [ 0.996595  ,  1.4090374 ,  0.43512118],\n",
       "       [-0.7654255 , -1.2097548 ,  0.02784501],\n",
       "       [ 1.4399486 ,  0.16496441,  0.16056019]], dtype=float32), edges=Array([[-0.9699195 ,  0.02450104,  1.701136  ],\n",
       "       [-0.05541662, -0.05218446,  0.9914088 ],\n",
       "       [-1.1880432 ,  0.12269159,  0.03120334],\n",
       "       [ 0.45218948,  0.7641067 ,  0.28698403],\n",
       "       [-0.6205103 ,  1.2320563 , -0.08100019],\n",
       "       [-0.10267812, -0.83045965,  0.9155112 ],\n",
       "       [-0.62728953,  1.1188575 , -1.383186  ],\n",
       "       [-1.3336649 ,  0.42979738, -1.488167  ],\n",
       "       [-1.0333658 , -0.7018838 ,  0.26736817],\n",
       "       [-0.02988481, -0.421698  ,  1.4570757 ],\n",
       "       [ 1.4289025 ,  0.96541977, -1.4277761 ],\n",
       "       [-0.79467225,  1.1768603 , -0.05870054],\n",
       "       [-0.25098425, -0.83059806, -0.8365158 ],\n",
       "       [-1.6437094 , -1.9411137 ,  0.31673428],\n",
       "       [ 0.79860497,  0.9045667 , -0.49008936],\n",
       "       [-0.77955145, -1.4962509 ,  0.18883541],\n",
       "       [-0.8825209 ,  0.9915324 ,  0.2967926 ],\n",
       "       [ 1.2068148 , -0.24063735, -1.0989385 ],\n",
       "       [ 0.60478824,  0.3213663 , -1.0304483 ],\n",
       "       [-0.45054427,  0.9149242 , -0.8672897 ]], dtype=float32), receivers=Array([5, 9, 5, 5, 3, 3, 3, 7, 6, 7, 2, 5, 6, 6, 9, 6, 6, 5, 7, 3], dtype=int32), senders=Array([9, 4, 5, 2, 6, 4, 6, 4, 9, 4, 9, 6, 7, 4, 9, 0, 3, 0, 3, 0], dtype=int32), globals=[Array([0, 1], dtype=int32)], n_node=Array([10], dtype=int32), n_edge=Array([20], dtype=int32))"
      ]
     },
     "execution_count": 11,
     "metadata": {},
     "output_type": "execute_result"
    }
   ],
   "source": [
    "graph"
   ]
  },
  {
   "cell_type": "code",
   "execution_count": null,
   "metadata": {},
   "outputs": [],
   "source": []
  }
 ],
 "metadata": {
  "kernelspec": {
   "display_name": "JAX_env",
   "language": "python",
   "name": "python3"
  },
  "language_info": {
   "codemirror_mode": {
    "name": "ipython",
    "version": 3
   },
   "file_extension": ".py",
   "mimetype": "text/x-python",
   "name": "python",
   "nbconvert_exporter": "python",
   "pygments_lexer": "ipython3",
   "version": "3.10.9"
  },
  "orig_nbformat": 4
 },
 "nbformat": 4,
 "nbformat_minor": 2
}
