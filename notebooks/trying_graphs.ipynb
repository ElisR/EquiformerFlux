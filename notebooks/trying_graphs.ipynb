{
 "cells": [
  {
   "cell_type": "code",
   "execution_count": 13,
   "metadata": {},
   "outputs": [],
   "source": [
    "import sys\n",
    "sys.path.append('../')\n",
    "\n",
    "import jraph\n",
    "import jax.numpy as jnp\n",
    "import jax.random as jr\n",
    "import jax\n",
    "\n",
    "import equiformer.graphs as graphs\n",
    "import equiformer.layers as layers\n",
    "\n",
    "from jax.lax import gather"
   ]
  },
  {
   "cell_type": "code",
   "execution_count": 21,
   "metadata": {},
   "outputs": [],
   "source": [
    "n_channels = {0: 1, 1: 1}\n",
    "graph = graphs.create_rand_graph(100, 200, n_channels, jr.PRNGKey(0))"
   ]
  },
  {
   "cell_type": "code",
   "execution_count": 22,
   "metadata": {},
   "outputs": [],
   "source": [
    "tp_layer = layers.TensorProductLayer({0: [0, 1], 1: [0, 1]}, n_channels, l_max=1)"
   ]
  },
  {
   "cell_type": "code",
   "execution_count": 23,
   "metadata": {},
   "outputs": [],
   "source": [
    "@jax.jit\n",
    "def apply(graph):\n",
    "    return tp_layer(graph)\n",
    "\n",
    "\n",
    "graph_out = apply(graph)"
   ]
  },
  {
   "cell_type": "code",
   "execution_count": 24,
   "metadata": {},
   "outputs": [
    {
     "name": "stdout",
     "output_type": "stream",
     "text": [
      "33 µs ± 301 ns per loop (mean ± std. dev. of 7 runs, 10,000 loops each)\n"
     ]
    }
   ],
   "source": [
    "%timeit apply(graph).nodes[1].block_until_ready()"
   ]
  },
  {
   "cell_type": "code",
   "execution_count": 25,
   "metadata": {},
   "outputs": [
    {
     "name": "stdout",
     "output_type": "stream",
     "text": [
      "9.4 ms ± 721 µs per loop (mean ± std. dev. of 7 runs, 1 loop each)\n"
     ]
    }
   ],
   "source": [
    "%timeit tp_layer(graph).nodes[1].block_until_ready()"
   ]
  },
  {
   "cell_type": "code",
   "execution_count": 16,
   "metadata": {},
   "outputs": [
    {
     "data": {
      "text/plain": [
       "GraphsTuple(nodes={-1: Array([[-0.38345885,  0.6296871 , -0.15880105],\n",
       "       [ 0.25808525,  0.49625078, -0.2821705 ],\n",
       "       [ 0.19775973,  0.00491796,  0.23706111],\n",
       "       [ 0.06808257, -0.31465647, -1.2616131 ],\n",
       "       [-0.42206448, -0.08140673, -0.5123282 ],\n",
       "       [-0.25323692,  1.104096  ,  1.8927003 ],\n",
       "       [ 1.9079154 ,  1.2675216 , -0.16225533],\n",
       "       [ 0.92891777, -0.00534184,  0.9454967 ],\n",
       "       [-0.19104688, -0.57152027, -0.5819773 ],\n",
       "       [ 0.8557095 , -0.5239636 , -1.8662931 ]], dtype=float32), 0: Array([[[ 0.01028168],\n",
       "        [ 0.01339297]],\n",
       "\n",
       "       [[ 1.3520383 ],\n",
       "        [ 1.0296303 ]],\n",
       "\n",
       "       [[ 1.5869076 ],\n",
       "        [        nan]],\n",
       "\n",
       "       [[ 0.48660356],\n",
       "        [-0.57795244]],\n",
       "\n",
       "       [[ 0.        ],\n",
       "        [ 0.        ]],\n",
       "\n",
       "       [[ 0.7106478 ],\n",
       "        [ 0.58071756]],\n",
       "\n",
       "       [[ 0.24086651],\n",
       "        [ 0.53447354]],\n",
       "\n",
       "       [[ 0.18795948],\n",
       "        [ 0.13502236]],\n",
       "\n",
       "       [[ 0.23992814],\n",
       "        [-0.39924896]],\n",
       "\n",
       "       [[ 0.4768452 ],\n",
       "        [-0.44780803]]], dtype=float32), 1: Array([[[ 0.00356379,  0.00329492, -0.01713422],\n",
       "        [ 0.36467862,  0.4524654 ,  0.14893988],\n",
       "        [ 0.5669265 , -0.46623433,  0.02825916]],\n",
       "\n",
       "       [[ 1.0714319 ,  0.2576896 ,  0.5084465 ],\n",
       "        [ 1.2311683 ,  1.412309  ,  1.803025  ],\n",
       "        [-0.09037802, -0.79057455,  0.94572186]],\n",
       "\n",
       "       [[        nan,         nan,         nan],\n",
       "        [ 1.4409244 ,  1.471628  ,  1.5577711 ],\n",
       "        [        nan,         nan,         nan]],\n",
       "\n",
       "       [[-0.5234609 , -0.61130196,  0.2502948 ],\n",
       "        [ 0.4924347 ,  0.45846796,  0.20344663],\n",
       "        [-0.34747586,  0.33386096,  0.08869469]],\n",
       "\n",
       "       [[ 0.        ,  0.        ,  0.        ],\n",
       "        [ 0.        ,  0.        ,  0.        ],\n",
       "        [ 0.        ,  0.        ,  0.        ]],\n",
       "\n",
       "       [[ 0.6325811 ,  0.79517376, -0.60665405],\n",
       "        [ 0.75041074,  0.48060274,  0.5495315 ],\n",
       "        [ 0.7671921 , -0.7067523 , -0.36279133]],\n",
       "\n",
       "       [[ 0.20728303,  0.05379394,  0.3580363 ],\n",
       "        [ 0.01565524,  0.5699096 ,  0.5280913 ],\n",
       "        [-0.5156232 , -0.30489737,  0.34432703]],\n",
       "\n",
       "       [[-0.21241617,  0.1848623 , -0.16337568],\n",
       "        [ 0.17742296,  0.51087016,  0.07832173],\n",
       "        [ 0.36846134, -0.04646014, -0.53163284]],\n",
       "\n",
       "       [[-0.37274325, -0.05532674,  0.16053393],\n",
       "        [ 0.4049108 ,  1.0255917 ,  0.6612188 ],\n",
       "        [-0.1853382 ,  0.5540175 , -1.0020684 ]],\n",
       "\n",
       "       [[-0.3962545 , -0.58648723,  0.425628  ],\n",
       "        [ 0.48255944,  0.44927385,  0.19936672],\n",
       "        [-0.45695046,  0.42171896,  0.15568542]]], dtype=float32)}, edges=Array([[-0.9789976 , -1.2728635 ,  1.107752  ],\n",
       "       [-1.1089464 ,  1.6280596 ,  3.7589934 ],\n",
       "       [ 0.68014973,  0.5776575 ,  0.2301577 ],\n",
       "       [ 0.        ,  0.        ,  0.        ],\n",
       "       [ 1.2391684 , -1.1536506 , -1.707492  ],\n",
       "       [-0.65794975,  0.52888155,  2.1033542 ],\n",
       "       [ 0.45154142, -0.94434357, -1.102812  ],\n",
       "       [ 0.45154142, -0.94434357, -1.102812  ],\n",
       "       [-0.731158  ,  0.0102598 , -0.70843554],\n",
       "       [-1.1821547 ,  1.109438  ,  0.94720364],\n",
       "       [-1.1089464 ,  1.6280596 ,  3.7589934 ],\n",
       "       [-0.44913214, -1.0677711 , -0.2998068 ],\n",
       "       [-0.59762424,  1.0202143 ,  1.5841225 ],\n",
       "       [ 2.32998   ,  1.3489283 ,  0.35007286],\n",
       "       [-0.6415441 ,  0.13343629,  0.12336946],\n",
       "       [-0.65794975,  0.52888155,  2.1033542 ],\n",
       "       [ 0.44913214,  1.0677711 ,  0.2998068 ],\n",
       "       [ 0.51132214, -0.6078453 , -2.1748707 ],\n",
       "       [ 1.2391684 , -1.1536506 , -1.707492  ],\n",
       "       [ 0.2310176 , -0.49011356, -0.0696491 ]], dtype=float32), receivers=Array([7, 5, 1, 2, 9, 2, 3, 3, 2, 5, 5, 8, 1, 6, 0, 2, 1, 1, 9, 8], dtype=int32), senders=Array([6, 9, 4, 2, 0, 9, 0, 0, 7, 7, 9, 1, 9, 4, 1, 9, 8, 5, 0, 4], dtype=int32), globals=None, n_node=Array([10], dtype=int32), n_edge=Array([20], dtype=int32))"
      ]
     },
     "execution_count": 16,
     "metadata": {},
     "output_type": "execute_result"
    }
   ],
   "source": [
    "graph_out"
   ]
  },
  {
   "cell_type": "code",
   "execution_count": 11,
   "metadata": {},
   "outputs": [
    {
     "data": {
      "text/plain": [
       "(10, 2, 1)"
      ]
     },
     "execution_count": 11,
     "metadata": {},
     "output_type": "execute_result"
    }
   ],
   "source": [
    "graph_out.nodes[0].shape"
   ]
  },
  {
   "cell_type": "code",
   "execution_count": 10,
   "metadata": {},
   "outputs": [
    {
     "data": {
      "text/plain": [
       "(20, 3)"
      ]
     },
     "execution_count": 10,
     "metadata": {},
     "output_type": "execute_result"
    }
   ],
   "source": [
    "graph_out.edges.shape"
   ]
  },
  {
   "cell_type": "code",
   "execution_count": null,
   "metadata": {},
   "outputs": [],
   "source": []
  }
 ],
 "metadata": {
  "kernelspec": {
   "display_name": "JAX_env",
   "language": "python",
   "name": "python3"
  },
  "language_info": {
   "codemirror_mode": {
    "name": "ipython",
    "version": 3
   },
   "file_extension": ".py",
   "mimetype": "text/x-python",
   "name": "python",
   "nbconvert_exporter": "python",
   "pygments_lexer": "ipython3",
   "version": "3.11.4"
  },
  "orig_nbformat": 4
 },
 "nbformat": 4,
 "nbformat_minor": 2
}
