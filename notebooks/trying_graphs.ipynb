{
 "cells": [
  {
   "cell_type": "code",
   "execution_count": 1,
   "metadata": {},
   "outputs": [],
   "source": [
    "import sys\n",
    "sys.path.append('../')\n",
    "\n",
    "import jraph\n",
    "import jax.numpy as jnp\n",
    "import jax.random as jr\n",
    "import jax\n",
    "\n",
    "import equiformer.graphs as graphs\n",
    "import equiformer.layers as layers\n",
    "import equiformer.examples.tetris as tetris\n",
    "\n",
    "from jax.lax import gather"
   ]
  },
  {
   "cell_type": "code",
   "execution_count": 2,
   "metadata": {},
   "outputs": [],
   "source": [
    "classifier = tetris.ShapeClassifier(jr.PRNGKey(1))\n",
    "\n",
    "graph = graphs.create_rand_graph(100, 200, {0: 1}, jr.PRNGKey(0))\n",
    "out_graph = classifier(graph)"
   ]
  },
  {
   "cell_type": "code",
   "execution_count": 3,
   "metadata": {},
   "outputs": [
    {
     "data": {
      "text/plain": [
       "Array([0.14783327, 0.1108437 , 0.15374263, 0.16561948, 0.10789527,\n",
       "       0.08064634, 0.16812624, 0.06529311], dtype=float32)"
      ]
     },
     "execution_count": 3,
     "metadata": {},
     "output_type": "execute_result"
    }
   ],
   "source": [
    "out_graph"
   ]
  },
  {
   "cell_type": "code",
   "execution_count": 11,
   "metadata": {},
   "outputs": [],
   "source": [
    "def create_connected_graph(coords: jnp.ndarray, add_self_edges: bool = False):\n",
    "    \"\"\"Create connected graph from coordinates\"\"\"\n",
    "    n_node = coords.shape[-2]\n",
    "\n",
    "    # Create all to all graph\n",
    "    senders, receivers = jnp.meshgrid(\n",
    "      jnp.arange(n_node), jnp.arange(n_node))\n",
    "    if not add_self_edges:\n",
    "        senders = jax.vmap(jnp.roll)(senders, -jnp.arange(len(senders)))[:, 1:]\n",
    "        receivers = receivers[:, 1:]\n",
    "    senders = senders.flatten()\n",
    "    receivers = receivers.flatten()\n",
    "    assert senders.shape == receivers.shape\n",
    "    n_edge = senders.shape[0]\n",
    "\n",
    "    edges = graphs.create_edge_features(coords, senders, receivers)\n",
    "\n",
    "    return jraph.GraphsTuple(nodes={-1: coords, 0: jnp.ones((n_node, 1, 1), dtype=float)}, edges=edges, receivers=receivers, senders=senders, globals=None, n_node=n_node, n_edge=n_edge)"
   ]
  },
  {
   "cell_type": "code",
   "execution_count": 14,
   "metadata": {},
   "outputs": [],
   "source": [
    "blocks = [jnp.array(block, dtype=float) for block in tetris.TETRIS_BLOCKS]\n",
    "\n",
    "example_block = blocks[0]"
   ]
  },
  {
   "cell_type": "code",
   "execution_count": 18,
   "metadata": {},
   "outputs": [],
   "source": [
    "import jraph._src.utils as jutils"
   ]
  },
  {
   "cell_type": "code",
   "execution_count": 19,
   "metadata": {},
   "outputs": [
    {
     "name": "stderr",
     "output_type": "stream",
     "text": [
      "/Users/elisr/opt/anaconda3/envs/jax_env/lib/python3.11/site-packages/jraph/_src/utils.py:882: FutureWarning: jax.tree_leaves is deprecated, and will be removed in a future release. Use jax.tree_util.tree_leaves instead.\n",
      "  num_node_features = jax.tree_leaves(node_features)[0].shape[0]\n"
     ]
    }
   ],
   "source": [
    "tetris_graph = jutils.get_fully_connected_graph(n_node_per_graph=4, n_graph=1, node_features={-1: example_block, 0: jnp.ones((4, 1, 1))}, add_self_edges=False)"
   ]
  },
  {
   "cell_type": "code",
   "execution_count": 20,
   "metadata": {},
   "outputs": [
    {
     "data": {
      "text/plain": [
       "GraphsTuple(nodes={-1: Array([[0., 0., 0.],\n",
       "       [0., 0., 1.],\n",
       "       [1., 0., 0.],\n",
       "       [1., 1., 0.]], dtype=float32), 0: Array([[[1.]],\n",
       "\n",
       "       [[1.]],\n",
       "\n",
       "       [[1.]],\n",
       "\n",
       "       [[1.]]], dtype=float32)}, edges=None, receivers=Array([0, 0, 0, 1, 1, 1, 2, 2, 2, 3, 3, 3], dtype=int32), senders=Array([1, 2, 3, 2, 3, 0, 3, 0, 1, 0, 1, 2], dtype=int32), globals=None, n_node=Array([4], dtype=int32), n_edge=Array([12], dtype=int32))"
      ]
     },
     "execution_count": 20,
     "metadata": {},
     "output_type": "execute_result"
    }
   ],
   "source": [
    "tetris_graph"
   ]
  }
 ],
 "metadata": {
  "kernelspec": {
   "display_name": "JAX_env",
   "language": "python",
   "name": "python3"
  },
  "language_info": {
   "codemirror_mode": {
    "name": "ipython",
    "version": 3
   },
   "file_extension": ".py",
   "mimetype": "text/x-python",
   "name": "python",
   "nbconvert_exporter": "python",
   "pygments_lexer": "ipython3",
   "version": "3.11.4"
  },
  "orig_nbformat": 4
 },
 "nbformat": 4,
 "nbformat_minor": 2
}
