{
 "cells": [
  {
   "cell_type": "code",
   "execution_count": 4,
   "metadata": {},
   "outputs": [],
   "source": [
    "from jax import random, jit\n",
    "\n",
    "from itertools import product\n",
    "\n",
    "import jax.numpy as jnp\n",
    "import equiformer.tensor_product as tensor_product\n",
    "import equiformer.spherical as spherical\n",
    "import numpy as np\n",
    "from sympy.physics.quantum.cg import CG\n",
    "from einops import einsum, rearrange, repeat\n",
    "\n",
    "from IPython.display import display"
   ]
  },
  {
   "cell_type": "code",
   "execution_count": 2,
   "metadata": {},
   "outputs": [],
   "source": [
    "arrs = tensor_product.generate_cg_matrices(1, 1, 1)"
   ]
  },
  {
   "cell_type": "code",
   "execution_count": 3,
   "metadata": {},
   "outputs": [
    {
     "data": {
      "text/plain": [
       "Array([[[ 0.       ,  0.       ,  0.       ],\n",
       "        [ 0.       ,  0.       , -0.7071067],\n",
       "        [ 0.       ,  0.7071067,  0.       ]],\n",
       "\n",
       "       [[ 0.       ,  0.       ,  0.7071067],\n",
       "        [ 0.       ,  0.       ,  0.       ],\n",
       "        [-0.7071067,  0.       ,  0.       ]],\n",
       "\n",
       "       [[ 0.       , -0.7071067,  0.       ],\n",
       "        [ 0.7071067,  0.       ,  0.       ],\n",
       "        [ 0.       ,  0.       ,  0.       ]]], dtype=float32)"
      ]
     },
     "metadata": {},
     "output_type": "display_data"
    }
   ],
   "source": [
    "display(arrs)"
   ]
  },
  {
   "attachments": {},
   "cell_type": "markdown",
   "metadata": {},
   "source": [
    "#### Creating Random Inputs"
   ]
  },
  {
   "cell_type": "code",
   "execution_count": 4,
   "metadata": {},
   "outputs": [],
   "source": [
    "key = random.PRNGKey(0)\n",
    "key, subkey = random.split(key, num=2)\n",
    "\n",
    "n = 100\n",
    "\n",
    "coords = random.normal(subkey, shape=(n, 3))"
   ]
  },
  {
   "cell_type": "code",
   "execution_count": 7,
   "metadata": {},
   "outputs": [],
   "source": [
    "f = spherical.solid_harmonics_jit(coords, 2)\n",
    "g = spherical.solid_harmonics_jit(coords, 1)"
   ]
  },
  {
   "cell_type": "code",
   "execution_count": 8,
   "metadata": {},
   "outputs": [
    {
     "name": "stdout",
     "output_type": "stream",
     "text": [
      "(100, 2, 5) (100, 2, 3)\n"
     ]
    }
   ],
   "source": [
    "stacked_f = jnp.stack([f, f], axis=-2)\n",
    "stacked_g = jnp.stack([g, g], axis=-2)\n",
    "\n",
    "print(stacked_f.shape, stacked_g.shape)"
   ]
  },
  {
   "cell_type": "code",
   "execution_count": 9,
   "metadata": {},
   "outputs": [],
   "source": [
    "tps = tensor_product.tensor_product(stacked_f, stacked_g)"
   ]
  },
  {
   "cell_type": "code",
   "execution_count": 10,
   "metadata": {},
   "outputs": [
    {
     "name": "stdout",
     "output_type": "stream",
     "text": [
      "[(100, 4, 3), (100, 4, 5), (100, 4, 7)]\n",
      "(100, 60)\n"
     ]
    }
   ],
   "source": [
    "print([tp.shape for tp in tps])\n",
    "concatted = jnp.concatenate([rearrange(tp, \"... c m -> ... (c m)\") for tp in tps], axis=-1)\n",
    "print(concatted.shape)"
   ]
  },
  {
   "attachments": {},
   "cell_type": "markdown",
   "metadata": {},
   "source": [
    "### Testing new CG"
   ]
  },
  {
   "cell_type": "code",
   "execution_count": 33,
   "metadata": {},
   "outputs": [],
   "source": [
    "import logging\n",
    "\n",
    "logging.basicConfig(level=logging.DEBUG)"
   ]
  },
  {
   "cell_type": "code",
   "execution_count": 55,
   "metadata": {},
   "outputs": [],
   "source": [
    "def generate_large_cg_matrix(ncs_1: list[int], ncs_2: list[int], lmax: int) -> jnp.ndarray:\n",
    "    \"\"\"Defines larger Clebsch-Gordan matrix for given angular momenta.\"\"\"\n",
    "    # Find the actual maximum angular momentum to calculate\n",
    "    true_lmax = min(lmax, len(ncs_1) + len(ncs_2) - 2)\n",
    "\n",
    "    # Define nested list to hold all blocks\n",
    "    # Format needed for np.block\n",
    "    cg_mats_all = [[[None] * (true_lmax + 1)] * len(ncs_2)] * len(ncs_1)\n",
    "\n",
    "    cg_dict = {}\n",
    "\n",
    "    long_list = []\n",
    "    for (l1, nc1), (l2, nc2) in product(enumerate(ncs_1), enumerate(ncs_2)):\n",
    "        # Constructing matrix that will match input channels with output\n",
    "        match_io = rearrange(np.eye(nc1 * nc2), \"(nci ncf) ncif -> nci ncf ncif\", nci=nc1, ncf=nc2)\n",
    "\n",
    "        for l3 in range(0, true_lmax + 1):\n",
    "            # CG matrix will be trivially zero if l3 is not in the range\n",
    "            # Choosing to calculate them anyway for simplicity\n",
    "            cg_mat = tensor_product.generate_cg_matrix(l1, l2, l3)\n",
    "\n",
    "            # Repeating a cg_mat a number of times for each input channel\n",
    "            cg_mat_repeated = repeat(cg_mat, \"mi mf mo -> nc1 mi nc2 mf mo\", nc1=nc1, nc2=nc2)\n",
    "\n",
    "\n",
    "            # Perform einsum to properly expand cg_mat_repeated\n",
    "            cg_mat_matching = einsum(\n",
    "                cg_mat_repeated,\n",
    "                match_io,\n",
    "                \"nc1 mi nc2 mf mo, nc1 nc2 ncif -> nc1 mi nc2 mf ncif mo\",\n",
    "            )\n",
    "            # Reshaping to 3 dimensional matrix\n",
    "            cg_mat_slurp = rearrange(cg_mat_matching, \"nc1 mi nc2 mf ncif mo -> (nc1 mi) (nc2 mf) (ncif mo)\", nc1=nc1, nc2=nc2, ncif=(nc1 * nc2))\n",
    "            logging.info(f\"{l1}, {l2}, {l3}, {cg_mat_repeated.shape} -> {cg_mat_matching.shape} -> {cg_mat_slurp.shape}\")\n",
    "\n",
    "            # NOTE This line is broken? Shapes are weird?\n",
    "            # I think the block operation is modifying the shape of the matrix\n",
    "            cg_mats_all[l1][l2][l3] = cg_mat_slurp\n",
    "            # Trying to debug list of lists\n",
    "            long_list.append(cg_mat_slurp)\n",
    "            cg_dict[(l1, l2, l3)] = cg_mat_slurp\n",
    "\n",
    "    # TODO Fix this function - currently giving wrong sizes\n",
    "    return np.block(cg_mats_all), cg_mats_all, long_list, cg_dict"
   ]
  },
  {
   "cell_type": "code",
   "execution_count": 52,
   "metadata": {},
   "outputs": [
    {
     "name": "stderr",
     "output_type": "stream",
     "text": [
      "INFO:root:0, 0, 0, (0, 1, 0, 1, 1) -> (0, 1, 0, 1, 0, 1) -> (0, 0, 0)\n",
      "INFO:root:0, 0, 1, (0, 1, 0, 1, 3) -> (0, 1, 0, 1, 0, 3) -> (0, 0, 0)\n",
      "INFO:root:0, 0, 2, (0, 1, 0, 1, 5) -> (0, 1, 0, 1, 0, 5) -> (0, 0, 0)\n",
      "INFO:root:0, 1, 0, (0, 1, 1, 3, 1) -> (0, 1, 1, 3, 0, 1) -> (0, 3, 0)\n",
      "INFO:root:0, 1, 1, (0, 1, 1, 3, 3) -> (0, 1, 1, 3, 0, 3) -> (0, 3, 0)\n",
      "INFO:root:0, 1, 2, (0, 1, 1, 3, 5) -> (0, 1, 1, 3, 0, 5) -> (0, 3, 0)\n",
      "INFO:root:1, 0, 0, (1, 3, 0, 1, 1) -> (1, 3, 0, 1, 0, 1) -> (3, 0, 0)\n",
      "INFO:root:1, 0, 1, (1, 3, 0, 1, 3) -> (1, 3, 0, 1, 0, 3) -> (3, 0, 0)\n",
      "INFO:root:1, 0, 2, (1, 3, 0, 1, 5) -> (1, 3, 0, 1, 0, 5) -> (3, 0, 0)\n",
      "INFO:root:1, 1, 0, (1, 3, 1, 3, 1) -> (1, 3, 1, 3, 1, 1) -> (3, 3, 1)\n",
      "INFO:root:1, 1, 1, (1, 3, 1, 3, 3) -> (1, 3, 1, 3, 1, 3) -> (3, 3, 3)\n",
      "INFO:root:1, 1, 2, (1, 3, 1, 3, 5) -> (1, 3, 1, 3, 1, 5) -> (3, 3, 5)\n"
     ]
    }
   ],
   "source": [
    "blocked, individual, long_list, cg_dict = generate_large_cg_matrix([0, 1], [0, 1], 2)"
   ]
  },
  {
   "cell_type": "code",
   "execution_count": 53,
   "metadata": {},
   "outputs": [
    {
     "data": {
      "text/plain": [
       "(6, 6, 9)"
      ]
     },
     "execution_count": 53,
     "metadata": {},
     "output_type": "execute_result"
    }
   ],
   "source": [
    "blocked.shape"
   ]
  },
  {
   "cell_type": "code",
   "execution_count": 54,
   "metadata": {},
   "outputs": [
    {
     "data": {
      "text/plain": [
       "[[[(3, 3, 1), (3, 3, 3), (3, 3, 5)], [(3, 3, 1), (3, 3, 3), (3, 3, 5)]],\n",
       " [[(3, 3, 1), (3, 3, 3), (3, 3, 5)], [(3, 3, 1), (3, 3, 3), (3, 3, 5)]]]"
      ]
     },
     "execution_count": 54,
     "metadata": {},
     "output_type": "execute_result"
    }
   ],
   "source": [
    "[[[cg.shape for cg in inner] for inner in outer] for outer in individual]"
   ]
  },
  {
   "cell_type": "code",
   "execution_count": 45,
   "metadata": {},
   "outputs": [
    {
     "data": {
      "text/plain": [
       "[(0, 0, 0),\n",
       " (0, 0, 0),\n",
       " (0, 0, 0),\n",
       " (0, 3, 0),\n",
       " (0, 3, 0),\n",
       " (0, 3, 0),\n",
       " (3, 0, 0),\n",
       " (3, 0, 0),\n",
       " (3, 0, 0),\n",
       " (3, 3, 1),\n",
       " (3, 3, 3),\n",
       " (3, 3, 5)]"
      ]
     },
     "execution_count": 45,
     "metadata": {},
     "output_type": "execute_result"
    }
   ],
   "source": [
    "[cg.shape for cg in long_list]"
   ]
  },
  {
   "cell_type": "code",
   "execution_count": 65,
   "metadata": {},
   "outputs": [],
   "source": [
    "outer = []\n",
    "for l1 in range(2):\n",
    "    middle = []\n",
    "    for l2 in range(2):\n",
    "        inner = []\n",
    "        for l3 in range(3):\n",
    "            inner.append(cg_dict[(l1, l2, l3)])\n",
    "        middle.append(inner)\n",
    "    outer.append(middle)"
   ]
  },
  {
   "cell_type": "code",
   "execution_count": 74,
   "metadata": {},
   "outputs": [
    {
     "name": "stdout",
     "output_type": "stream",
     "text": [
      "(0, 0, 0) (0, 3, 0) (3, 0, 0) (3, 3, 9)\n"
     ]
    }
   ],
   "source": [
    "zerozero = np.concatenate(long_list[0:3], axis=-1)\n",
    "zeroone = np.concatenate(long_list[3:6], axis=-1)\n",
    "onezero = np.concatenate(long_list[6:9], axis=-1)\n",
    "oneone = np.concatenate(long_list[9:12], axis=-1)\n",
    "\n",
    "print(zerozero.shape, zeroone.shape, onezero.shape, oneone.shape)"
   ]
  },
  {
   "cell_type": "code",
   "execution_count": 73,
   "metadata": {},
   "outputs": [
    {
     "data": {
      "text/plain": [
       "(0, 0, 0)"
      ]
     },
     "execution_count": 73,
     "metadata": {},
     "output_type": "execute_result"
    }
   ],
   "source": []
  },
  {
   "cell_type": "code",
   "execution_count": null,
   "metadata": {},
   "outputs": [],
   "source": []
  }
 ],
 "metadata": {
  "kernelspec": {
   "display_name": "JAX_env",
   "language": "python",
   "name": "python3"
  },
  "language_info": {
   "codemirror_mode": {
    "name": "ipython",
    "version": 3
   },
   "file_extension": ".py",
   "mimetype": "text/x-python",
   "name": "python",
   "nbconvert_exporter": "python",
   "pygments_lexer": "ipython3",
   "version": "3.10.9"
  },
  "orig_nbformat": 4
 },
 "nbformat": 4,
 "nbformat_minor": 2
}
